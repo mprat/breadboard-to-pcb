{
 "metadata": {
  "name": "cv_exploration"
 },
 "nbformat": 3,
 "nbformat_minor": 0,
 "worksheets": [
  {
   "cells": [
    {
     "cell_type": "code",
     "collapsed": false,
     "input": [
      "import cv2\n",
      "import numpy as np"
     ],
     "language": "python",
     "metadata": {},
     "outputs": [],
     "prompt_number": 1
    },
    {
     "cell_type": "code",
     "collapsed": false,
     "input": [
      "cvimg = cv2.imread('imgs/breadboard.jpg', 0)"
     ],
     "language": "python",
     "metadata": {},
     "outputs": [],
     "prompt_number": 57
    },
    {
     "cell_type": "code",
     "collapsed": false,
     "input": [
      "def show(img):\n",
      "    cv2.imshow('foo', img)\n",
      "    cv2.waitKey(0)\n",
      "    cv2.destroyAllWindows()"
     ],
     "language": "python",
     "metadata": {},
     "outputs": [],
     "prompt_number": 58
    },
    {
     "cell_type": "code",
     "collapsed": false,
     "input": [
      "sbd_params = cv2.SimpleBlobDetector_Params()\n",
      "sbd = cv2.SimpleBlobDetector(sbd_params)"
     ],
     "language": "python",
     "metadata": {},
     "outputs": [],
     "prompt_number": 59
    },
    {
     "cell_type": "code",
     "collapsed": false,
     "input": [
      "blur = cv2.GaussianBlur(cvimg, (5,5), 0)\n"
     ],
     "language": "python",
     "metadata": {},
     "outputs": [],
     "prompt_number": 60
    },
    {
     "cell_type": "code",
     "collapsed": false,
     "input": [
      "keypoints = sbd.detect(cvimg)\n",
      "print len(keypoints)"
     ],
     "language": "python",
     "metadata": {},
     "outputs": [
      {
       "output_type": "stream",
       "stream": "stdout",
       "text": [
        "216\n"
       ]
      }
     ],
     "prompt_number": 61
    },
    {
     "cell_type": "code",
     "collapsed": false,
     "input": [
      "blobs = cvimg.copy()\n",
      "for kp in keypoints:\n",
      "    cv2.circle(blobs, tuple([int(coord) for coord in kp.pt]), 4, 255, 4)\n",
      "#show(blobs)"
     ],
     "language": "python",
     "metadata": {},
     "outputs": [],
     "prompt_number": 62
    },
    {
     "cell_type": "code",
     "collapsed": false,
     "input": [
      "dists = np.zeros((len(keypoints),len(keypoints)))\n",
      "kps = [np.array(p.pt) for p in keypoints]\n",
      "for j, pj in enumerate(kps):\n",
      "    for k, pk in enumerate(kps):\n",
      "        dists[j,k] = np.linalg.norm(pj - pk)\n",
      "upper = np.triu(dists)\n",
      "flat = np.array([x for x in upper.reshape((-1,1)) if x > 1])\n",
      "n, bins, patches = hist(flat, range=(0,50), bins=25)"
     ],
     "language": "python",
     "metadata": {},
     "outputs": [
      {
       "output_type": "display_data",
       "png": "[encoded data removed]"
      }
     ],
     "prompt_number": 63
    },
    {
     "cell_type": "code",
     "collapsed": false,
     "input": [
      "min_spacing = bins[[i for (i,b) in enumerate(n) if b > float(len(keypoints))/2][0]] + (bins[1]-bins[0])/2.0\n",
      "print min_spacing"
     ],
     "language": "python",
     "metadata": {},
     "outputs": [
      {
       "output_type": "stream",
       "stream": "stdout",
       "text": [
        "23.0\n"
       ]
      }
     ],
     "prompt_number": 64
    },
    {
     "cell_type": "code",
     "collapsed": false,
     "input": [
      "cond = np.where((upper >= min_spacing - 1) * (upper <= min_spacing + 1), 1, 0)\n",
      "neighbors = []\n",
      "for j, row in enumerate(cond):\n",
      "    for k, el in enumerate(row):\n",
      "        if el:\n",
      "            # print j, k, keypoints[j].pt, keypoints[k].pt\n",
      "            neighbors.append([j, k, keypoints[j].pt, keypoints[k].pt])"
     ],
     "language": "python",
     "metadata": {},
     "outputs": [],
     "prompt_number": 67
    },
    {
     "cell_type": "code",
     "collapsed": false,
     "input": [
      "lines = blobs.copy()\n",
      "for n in neighbors:\n",
      "    cv2.line(lines, tuple(map(int, n[2])), tuple(map(int, n[3])), 255)\n",
      "show(lines)"
     ],
     "language": "python",
     "metadata": {},
     "outputs": [],
     "prompt_number": 66
    },
    {
     "cell_type": "code",
     "collapsed": false,
     "input": [],
     "language": "python",
     "metadata": {},
     "outputs": []
    }
   ],
   "metadata": {}
  }
 ]
}