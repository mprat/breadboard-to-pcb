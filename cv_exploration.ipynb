{
 "metadata": {
  "name": "cv_exploration"
 },
 "nbformat": 3,
 "nbformat_minor": 0,
 "worksheets": [
  {
   "cells": [
    {
     "cell_type": "code",
     "collapsed": false,
     "input": [
      "import cv2\n",
      "import numpy as np"
     ],
     "language": "python",
     "metadata": {},
     "outputs": [],
     "prompt_number": 1
    },
    {
     "cell_type": "markdown",
     "metadata": {},
     "source": [
      "# Identifying a breadboard grid"
     ]
    },
    {
     "cell_type": "code",
     "collapsed": false,
     "input": [
      "cvimg = cv2.imread('imgs/breadboard_35.jpg', 0)"
     ],
     "language": "python",
     "metadata": {},
     "outputs": [],
     "prompt_number": 2
    },
    {
     "cell_type": "code",
     "collapsed": false,
     "input": [
      "def show(img):\n",
      "    cv2.imshow('foo', img)\n",
      "    cv2.waitKey(0)\n",
      "    cv2.destroyAllWindows()"
     ],
     "language": "python",
     "metadata": {},
     "outputs": [],
     "prompt_number": 3
    },
    {
     "cell_type": "markdown",
     "metadata": {},
     "source": [
      "## Identifying the holes in the board"
     ]
    },
    {
     "cell_type": "code",
     "collapsed": false,
     "input": [
      "sbd_params = cv2.SimpleBlobDetector_Params()\n",
      "sbd = cv2.SimpleBlobDetector(sbd_params)"
     ],
     "language": "python",
     "metadata": {},
     "outputs": [],
     "prompt_number": 4
    },
    {
     "cell_type": "code",
     "collapsed": false,
     "input": [
      "keypoints = sbd.detect(cvimg)\n",
      "print len(keypoints)"
     ],
     "language": "python",
     "metadata": {},
     "outputs": [
      {
       "output_type": "stream",
       "stream": "stdout",
       "text": [
        "81\n"
       ]
      }
     ],
     "prompt_number": 5
    },
    {
     "cell_type": "code",
     "collapsed": false,
     "input": [
      "blobs = cvimg.copy()\n",
      "for kp in keypoints:\n",
      "    cv2.circle(blobs, tuple([int(coord) for coord in kp.pt]), 4, 255, 4)\n",
      "#show(blobs)"
     ],
     "language": "python",
     "metadata": {},
     "outputs": [],
     "prompt_number": 6
    },
    {
     "cell_type": "markdown",
     "metadata": {},
     "source": [
      "## Identifying the grid spacing\n",
      "What we do here is find the distances between all the detected holes in the image. The actual spacing between pins should be the minimum distance observed between holes."
     ]
    },
    {
     "cell_type": "code",
     "collapsed": false,
     "input": [
      "dists = np.zeros((len(keypoints),len(keypoints)))\n",
      "kps = [np.array(p.pt) for p in keypoints]\n",
      "for j, pj in enumerate(kps):\n",
      "    for k, pk in enumerate(kps):\n",
      "        dists[j,k] = np.linalg.norm(pj - pk)\n",
      "upper = np.triu(dists)\n",
      "flat = np.array([x for x in upper.reshape((-1,1)) if x > 1])\n",
      "n, bins, patches = hist(flat, range=(0,50), bins=100)"
     ],
     "language": "python",
     "metadata": {},
     "outputs": [
      {
       "output_type": "display_data",
       "png": "[encoded data removed]"
      }
     ],
     "prompt_number": 7
    },
    {
     "cell_type": "code",
     "collapsed": false,
     "input": [
      "min_spacing = bins[[i for (i,b) in enumerate(n) if b > float(len(keypoints))/2][0]] + (bins[1]-bins[0])/2.0\n",
      "print min_spacing"
     ],
     "language": "python",
     "metadata": {},
     "outputs": [
      {
       "output_type": "stream",
       "stream": "stdout",
       "text": [
        "23.25\n"
       ]
      }
     ],
     "prompt_number": 8
    },
    {
     "cell_type": "code",
     "collapsed": false,
     "input": [
      "cond = np.where((upper >= min_spacing - 1) * (upper <= min_spacing + 1), 1, 0)\n",
      "neighbors = []\n",
      "for j, row in enumerate(cond):\n",
      "    for k, el in enumerate(row):\n",
      "        if el:\n",
      "            # print j, k, keypoints[j].pt, keypoints[k].pt\n",
      "            neighbors.append([j, k, keypoints[j].pt, keypoints[k].pt])"
     ],
     "language": "python",
     "metadata": {},
     "outputs": [],
     "prompt_number": 9
    },
    {
     "cell_type": "markdown",
     "metadata": {},
     "source": [
      "## Draw lines between grid neighbors"
     ]
    },
    {
     "cell_type": "code",
     "collapsed": false,
     "input": [
      "lines = blobs.copy()\n",
      "for n in neighbors:\n",
      "    cv2.line(lines, tuple(map(int, n[2])), tuple(map(int, n[3])), 255)\n",
      "#show(lines)"
     ],
     "language": "python",
     "metadata": {},
     "outputs": [],
     "prompt_number": 10
    },
    {
     "cell_type": "markdown",
     "metadata": {},
     "source": [
      "## Identify the angle of the grid \n",
      "We find the angle of the grid by looking at the orientation of the lines between adjacent holes in the grid"
     ]
    },
    {
     "cell_type": "code",
     "collapsed": false,
     "input": [
      "angles = np.array([np.arctan2(n[3][1] - n[2][1], n[3][0] - n[2][0]) for n in neighbors])\n",
      "angle_step = 0.5\n",
      "n_ang, bins, patches = hist((angles % np.pi) * 180 / np.pi, range=(0,180), bins=180./angle_step)"
     ],
     "language": "python",
     "metadata": {},
     "outputs": [
      {
       "output_type": "display_data",
       "png": "[encoded data removed]"
      }
     ],
     "prompt_number": 21
    },
    {
     "cell_type": "code",
     "collapsed": false,
     "input": [
      "\n",
      "kernel = np.tile(np.hstack([normpdf(np.array(range(int(45./angle_step))), 0, 10./angle_step), normpdf(np.array(range(int(45./angle_step))), 45./angle_step, 10./angle_step)]), 2)"
     ],
     "language": "python",
     "metadata": {},
     "outputs": [],
     "prompt_number": 15
    },
    {
     "cell_type": "code",
     "collapsed": false,
     "input": [
      "plot(kernel)\n",
      "plot(np.roll(kernel, int(25./angle_step)))"
     ],
     "language": "python",
     "metadata": {},
     "outputs": [
      {
       "output_type": "pyout",
       "prompt_number": 18,
       "text": [
        "[<matplotlib.lines.Line2D at 0x1097fc510>]"
       ]
      },
      {
       "output_type": "display_data",
       "png": "[encoded data removed]"
      }
     ],
     "prompt_number": 18
    },
    {
     "cell_type": "code",
     "collapsed": false,
     "input": [
      "angle_fits = np.zeros(int(45./angle_step))\n",
      "for t in range(len(angle_fits)):\n",
      "    angle_fits[t] = np.correlate(np.roll(kernel, t), n_ang)\n",
      "plot(angle_fits)\n",
      "grid_angle = (np.argmax(angle_fits) * angle_step + angle_step/2) * np.pi/180\n",
      "print grid_angle, grid_angle*180/np.pi"
     ],
     "language": "python",
     "metadata": {},
     "outputs": [
      {
       "output_type": "stream",
       "stream": "stdout",
       "text": [
        "0.606501915068 34.75\n"
       ]
      },
      {
       "output_type": "display_data",
       "png": "[encoded data removed]"
      }
     ],
     "prompt_number": 35
    },
    {
     "cell_type": "markdown",
     "metadata": {},
     "source": [
      "## Translation of the grid\n",
      "Now we have the spacing and orientation of the grid, so let's find its translation as well. First, let's undo the rotation:"
     ]
    },
    {
     "cell_type": "code",
     "collapsed": false,
     "input": [
      "R = np.matrix([[cos(-grid_angle), -sin(-grid_angle)], [sin(-grid_angle), cos(-grid_angle)]])\n",
      "print R"
     ],
     "language": "python",
     "metadata": {},
     "outputs": [
      {
       "output_type": "stream",
       "stream": "stdout",
       "text": [
        "[[ 0.82164694  0.56999676]\n",
        " [-0.56999676  0.82164694]]\n"
       ]
      }
     ],
     "prompt_number": 36
    },
    {
     "cell_type": "code",
     "collapsed": false,
     "input": [
      "print R * np.reshape(kps[0], (2,-1))"
     ],
     "language": "python",
     "metadata": {},
     "outputs": [
      {
       "output_type": "stream",
       "stream": "stdout",
       "text": [
        "[[ 795.49030207]\n",
        " [ 132.1157157 ]]\n"
       ]
      }
     ],
     "prompt_number": 37
    },
    {
     "cell_type": "code",
     "collapsed": false,
     "input": [
      "plot([k[0] for k in kps], [k[1] for k in kps], 'ro')"
     ],
     "language": "python",
     "metadata": {},
     "outputs": [
      {
       "output_type": "pyout",
       "prompt_number": 38,
       "text": [
        "[<matplotlib.lines.Line2D at 0x10774cc10>]"
       ]
      },
      {
       "output_type": "display_data",
       "png": "[encoded data removed]"
      }
     ],
     "prompt_number": 38
    },
    {
     "cell_type": "code",
     "collapsed": false,
     "input": [
      "kps_rot = [np.array(R * np.reshape(k, (2,-1))) for k in kps]\n",
      "plot([k[0] for k in kps_rot], [k[1] for k in kps_rot], 'ro')"
     ],
     "language": "python",
     "metadata": {},
     "outputs": [
      {
       "output_type": "pyout",
       "prompt_number": 39,
       "text": [
        "[<matplotlib.lines.Line2D at 0x10f492210>]"
       ]
      },
      {
       "output_type": "display_data",
       "png": "[encoded data removed]"
      }
     ],
     "prompt_number": 39
    },
    {
     "cell_type": "markdown",
     "metadata": {},
     "source": [
      "Next, we can find the phase of the x and y position of the grid using modular arithmetic"
     ]
    },
    {
     "cell_type": "code",
     "collapsed": false,
     "input": [
      "x_mod = [k[0][0] % min_spacing for k in kps_rot]\n",
      "y_mod = [k[1][0] % min_spacing for k in kps_rot]"
     ],
     "language": "python",
     "metadata": {},
     "outputs": [],
     "prompt_number": 40
    },
    {
     "cell_type": "code",
     "collapsed": false,
     "input": [
      "n_x, bins, patches = hist(x_mod, range=(0,min_spacing), bins=(min_spacing))\n",
      "n_y, bins, patches = hist(y_mod, range=(0,min_spacing), bins=(min_spacing))"
     ],
     "language": "python",
     "metadata": {},
     "outputs": [
      {
       "output_type": "display_data",
       "png": "[encoded data removed]"
      }
     ],
     "prompt_number": 41
    },
    {
     "cell_type": "code",
     "collapsed": false,
     "input": [
      "grid_orig = np.reshape([np.argmax(n_x)+0.5, np.argmax(n_y)+0.5], (2,-1))\n",
      "print grid_orig"
     ],
     "language": "python",
     "metadata": {},
     "outputs": [
      {
       "output_type": "stream",
       "stream": "stdout",
       "text": [
        "[[  6.5]\n",
        " [ 14.5]]\n"
       ]
      }
     ],
     "prompt_number": 42
    },
    {
     "cell_type": "code",
     "collapsed": false,
     "input": [
      "inferred_grid_pts = []\n",
      "for j in range(50):\n",
      "    for k in range(50):\n",
      "        inferred_grid_pts.append(inv(R)*(grid_orig + np.array([[j * min_spacing], [k * min_spacing]])))"
     ],
     "language": "python",
     "metadata": {},
     "outputs": [],
     "prompt_number": 43
    },
    {
     "cell_type": "code",
     "collapsed": false,
     "input": [
      "with_grid = lines.copy()"
     ],
     "language": "python",
     "metadata": {},
     "outputs": [],
     "prompt_number": 44
    },
    {
     "cell_type": "code",
     "collapsed": false,
     "input": [
      "for p in inferred_grid_pts:\n",
      "    cv2.circle(with_grid, tuple(p), 4, 125)\n",
      "show(with_grid)"
     ],
     "language": "python",
     "metadata": {},
     "outputs": [],
     "prompt_number": 45
    },
    {
     "cell_type": "code",
     "collapsed": false,
     "input": [],
     "language": "python",
     "metadata": {},
     "outputs": [],
     "prompt_number": 26
    }
   ],
   "metadata": {}
  }
 ]
}